{
  "nbformat": 4,
  "nbformat_minor": 0,
  "metadata": {
    "colab": {
      "provenance": []
    },
    "kernelspec": {
      "name": "python3",
      "display_name": "Python 3"
    },
    "language_info": {
      "name": "python"
    }
  },
  "cells": [
    {
      "cell_type": "code",
      "execution_count": 2,
      "metadata": {
        "colab": {
          "base_uri": "https://localhost:8080/",
          "height": 374
        },
        "id": "RGQFPxT2lw-9",
        "outputId": "46099ef5-ffe7-4960-eb62-8af456b6cba4"
      },
      "outputs": [
        {
          "output_type": "stream",
          "name": "stdout",
          "text": [
            "From this list what product do you want to buy? ['Prismatic Evolutions', 'Skates', 'PC']\n"
          ]
        },
        {
          "output_type": "error",
          "ename": "KeyboardInterrupt",
          "evalue": "Interrupted by user",
          "traceback": [
            "\u001b[0;31m---------------------------------------------------------------------------\u001b[0m",
            "\u001b[0;31mKeyboardInterrupt\u001b[0m                         Traceback (most recent call last)",
            "\u001b[0;32m<ipython-input-2-27c655c36a04>\u001b[0m in \u001b[0;36m<cell line: 0>\u001b[0;34m()\u001b[0m\n\u001b[1;32m      5\u001b[0m \u001b[0mamazonList\u001b[0m\u001b[0;34m=\u001b[0m\u001b[0;34m[\u001b[0m\u001b[0;34m'Prismatic Evolutions'\u001b[0m\u001b[0;34m,\u001b[0m \u001b[0;34m'Skates'\u001b[0m\u001b[0;34m,\u001b[0m \u001b[0;34m'PC'\u001b[0m\u001b[0;34m]\u001b[0m\u001b[0;34m\u001b[0m\u001b[0;34m\u001b[0m\u001b[0m\n\u001b[1;32m      6\u001b[0m \u001b[0mprint\u001b[0m\u001b[0;34m(\u001b[0m\u001b[0;34m'From this list what product do you want to buy?'\u001b[0m\u001b[0;34m,\u001b[0m\u001b[0mamazonList\u001b[0m\u001b[0;34m)\u001b[0m\u001b[0;34m\u001b[0m\u001b[0;34m\u001b[0m\u001b[0m\n\u001b[0;32m----> 7\u001b[0;31m \u001b[0moption\u001b[0m\u001b[0;34m=\u001b[0m\u001b[0mint\u001b[0m\u001b[0;34m(\u001b[0m\u001b[0minput\u001b[0m\u001b[0;34m(\u001b[0m\u001b[0;34m)\u001b[0m\u001b[0;34m)\u001b[0m\u001b[0;34m\u001b[0m\u001b[0;34m\u001b[0m\u001b[0m\n\u001b[0m\u001b[1;32m      8\u001b[0m \u001b[0;32mif\u001b[0m\u001b[0;34m(\u001b[0m\u001b[0moption\u001b[0m\u001b[0;34m==\u001b[0m\u001b[0;36m1\u001b[0m\u001b[0;34m)\u001b[0m\u001b[0;34m:\u001b[0m\u001b[0;34m\u001b[0m\u001b[0;34m\u001b[0m\u001b[0m\n\u001b[1;32m      9\u001b[0m   \u001b[0mprint\u001b[0m\u001b[0;34m(\u001b[0m\u001b[0;34m'How many'\u001b[0m\u001b[0;34m,\u001b[0m\u001b[0mamazonList\u001b[0m\u001b[0;34m[\u001b[0m\u001b[0moption\u001b[0m\u001b[0;34m-\u001b[0m\u001b[0;36m1\u001b[0m\u001b[0;34m]\u001b[0m\u001b[0;34m,\u001b[0m\u001b[0;34m'do you want to buy?'\u001b[0m\u001b[0;34m)\u001b[0m\u001b[0;34m\u001b[0m\u001b[0;34m\u001b[0m\u001b[0m\n",
            "\u001b[0;32m/usr/local/lib/python3.11/dist-packages/ipykernel/kernelbase.py\u001b[0m in \u001b[0;36mraw_input\u001b[0;34m(self, prompt)\u001b[0m\n\u001b[1;32m   1175\u001b[0m                 \u001b[0;34m\"raw_input was called, but this frontend does not support input requests.\"\u001b[0m\u001b[0;34m\u001b[0m\u001b[0;34m\u001b[0m\u001b[0m\n\u001b[1;32m   1176\u001b[0m             )\n\u001b[0;32m-> 1177\u001b[0;31m         return self._input_request(\n\u001b[0m\u001b[1;32m   1178\u001b[0m             \u001b[0mstr\u001b[0m\u001b[0;34m(\u001b[0m\u001b[0mprompt\u001b[0m\u001b[0;34m)\u001b[0m\u001b[0;34m,\u001b[0m\u001b[0;34m\u001b[0m\u001b[0;34m\u001b[0m\u001b[0m\n\u001b[1;32m   1179\u001b[0m             \u001b[0mself\u001b[0m\u001b[0;34m.\u001b[0m\u001b[0m_parent_ident\u001b[0m\u001b[0;34m[\u001b[0m\u001b[0;34m\"shell\"\u001b[0m\u001b[0;34m]\u001b[0m\u001b[0;34m,\u001b[0m\u001b[0;34m\u001b[0m\u001b[0;34m\u001b[0m\u001b[0m\n",
            "\u001b[0;32m/usr/local/lib/python3.11/dist-packages/ipykernel/kernelbase.py\u001b[0m in \u001b[0;36m_input_request\u001b[0;34m(self, prompt, ident, parent, password)\u001b[0m\n\u001b[1;32m   1217\u001b[0m             \u001b[0;32mexcept\u001b[0m \u001b[0mKeyboardInterrupt\u001b[0m\u001b[0;34m:\u001b[0m\u001b[0;34m\u001b[0m\u001b[0;34m\u001b[0m\u001b[0m\n\u001b[1;32m   1218\u001b[0m                 \u001b[0;31m# re-raise KeyboardInterrupt, to truncate traceback\u001b[0m\u001b[0;34m\u001b[0m\u001b[0;34m\u001b[0m\u001b[0m\n\u001b[0;32m-> 1219\u001b[0;31m                 \u001b[0;32mraise\u001b[0m \u001b[0mKeyboardInterrupt\u001b[0m\u001b[0;34m(\u001b[0m\u001b[0;34m\"Interrupted by user\"\u001b[0m\u001b[0;34m)\u001b[0m \u001b[0;32mfrom\u001b[0m \u001b[0;32mNone\u001b[0m\u001b[0;34m\u001b[0m\u001b[0;34m\u001b[0m\u001b[0m\n\u001b[0m\u001b[1;32m   1220\u001b[0m             \u001b[0;32mexcept\u001b[0m \u001b[0mException\u001b[0m\u001b[0;34m:\u001b[0m\u001b[0;34m\u001b[0m\u001b[0;34m\u001b[0m\u001b[0m\n\u001b[1;32m   1221\u001b[0m                 \u001b[0mself\u001b[0m\u001b[0;34m.\u001b[0m\u001b[0mlog\u001b[0m\u001b[0;34m.\u001b[0m\u001b[0mwarning\u001b[0m\u001b[0;34m(\u001b[0m\u001b[0;34m\"Invalid Message:\"\u001b[0m\u001b[0;34m,\u001b[0m \u001b[0mexc_info\u001b[0m\u001b[0;34m=\u001b[0m\u001b[0;32mTrue\u001b[0m\u001b[0;34m)\u001b[0m\u001b[0;34m\u001b[0m\u001b[0;34m\u001b[0m\u001b[0m\n",
            "\u001b[0;31mKeyboardInterrupt\u001b[0m: Interrupted by user"
          ]
        }
      ],
      "source": [
        "shoppingCart=[]\n",
        "amazonList=['Prismatic Evolutions', 'Skates', 'PC']\n",
        "\n",
        "def addToList(option,qty):\n",
        "  if(isinstance(option, int) and isinstance(qty,int)):\n",
        "    shoppingCart.append([amazonList[option-1],qty])\n",
        "    print(shoppingCart)\n",
        "  else:\n",
        "    print('Invalid option')\n",
        "\n",
        "#broken code for try and except\n",
        "#def addToList2(option,qty):\n",
        "#  try:\n",
        "#    option=int(option)\n",
        "#    qty=int(qty)\n",
        "#    shoppingCart.append([amazonList[option-1],qty])\n",
        "#    return shoppingCart\n",
        "#  except ValueError:\n",
        "#   return 'Please enter a number'\n",
        "\n",
        "print('From this list what product do you want to buy?',amazonList)\n",
        "option=input()\n",
        "qty=input()\n",
        "addToList(option,qty)"
      ]
    },
    {
      "cell_type": "markdown",
      "source": [
        "8. Custom Greeting Function Question: Write a function called greet() that takes one parameter (name). The function should print a personalized greeting like \"Hello, [Name]!\" Call the function at least 3 times with different names. Extenstion: Use input() to let the user enter their name and greet them using the function."
      ],
      "metadata": {
        "id": "nxyYqtOsu-6L"
      }
    },
    {
      "cell_type": "code",
      "source": [
        "#Const\n",
        "#------------Variables\n",
        "names=[]\n",
        "greetings=[]\n",
        "#------------Functions\n",
        "def adderToList(listToAdd):\n",
        "  valueToAdd=input()\n",
        "  listToAdd.append(valueToAdd)\n",
        "  return listToAdd\n",
        "\n",
        "#------------Main\n",
        "print('Welcome to Greeter 3000! Please let me know how many greetings would you like to display')\n",
        "greetNumb=int(input('Number of Greets'))\n",
        "nameNumb=int(input('How many names would you like to greet?'))\n",
        "for name in range(nameNumb):\n",
        "  adderToList(names)\n",
        "for greet in range(greetNumb):\n",
        "  greetings=adderToList(greetings)\n",
        "for name in names:\n",
        "  for greet in greetings:\n",
        "    print(greet,name)"
      ],
      "metadata": {
        "colab": {
          "base_uri": "https://localhost:8080/"
        },
        "id": "zAw-AVaLu6X3",
        "outputId": "078f8bb5-a101-43b2-89b9-3ecd27cb3723"
      },
      "execution_count": 19,
      "outputs": [
        {
          "output_type": "stream",
          "name": "stdout",
          "text": [
            "Welcome to Greeter 3000! Please let me know how many greetings would you like to display\n",
            "Number of Greets1\n",
            "How many names would you like to greet?3\n",
            "Logan\n",
            "Ryan\n",
            "Sean\n",
            "ajdsiof\n",
            "ajdsiof Logan\n",
            "ajdsiof Ryan\n",
            "ajdsiof Sean\n"
          ]
        }
      ]
    }
  ]
}