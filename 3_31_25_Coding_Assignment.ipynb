{
  "nbformat": 4,
  "nbformat_minor": 0,
  "metadata": {
    "colab": {
      "provenance": []
    },
    "kernelspec": {
      "name": "python3",
      "display_name": "Python 3"
    },
    "language_info": {
      "name": "python"
    }
  },
  "cells": [
    {
      "cell_type": "markdown",
      "source": [
        "Budget tracking soft."
      ],
      "metadata": {
        "id": "hJv3rnEooBYD"
      }
    },
    {
      "cell_type": "code",
      "execution_count": 10,
      "metadata": {
        "colab": {
          "base_uri": "https://localhost:8080/",
          "height": 332
        },
        "id": "kW4AX4QxntLe",
        "outputId": "42c5da34-e8f5-4840-83b0-0fffca40fdd2"
      },
      "outputs": [
        {
          "name": "stdout",
          "output_type": "stream",
          "text": [
            "Managing week  0\n",
            "Please input your weekly income: 500\n",
            "Select the Category\n",
            "1 . For food\n",
            "2 . For transport\n",
            "3 . For entertainment\n",
            "Please input your weekly income: 1\n"
          ]
        },
        {
          "output_type": "error",
          "ename": "TypeError",
          "evalue": "unsupported operand type(s) for -: 'int' and 'dict'",
          "traceback": [
            "\u001b[0;31m---------------------------------------------------------------------------\u001b[0m",
            "\u001b[0;31mTypeError\u001b[0m                                 Traceback (most recent call last)",
            "\u001b[0;32m<ipython-input-10-6fe63c9d090c>\u001b[0m in \u001b[0;36m<cell line: 0>\u001b[0;34m()\u001b[0m\n\u001b[1;32m     37\u001b[0m         \u001b[0;32mexcept\u001b[0m \u001b[0mValueError\u001b[0m\u001b[0;34m:\u001b[0m\u001b[0;34m\u001b[0m\u001b[0;34m\u001b[0m\u001b[0m\n\u001b[1;32m     38\u001b[0m          \u001b[0mprint\u001b[0m\u001b[0;34m(\u001b[0m\u001b[0;34m'Please input a valid number'\u001b[0m\u001b[0;34m)\u001b[0m\u001b[0;34m\u001b[0m\u001b[0;34m\u001b[0m\u001b[0m\n\u001b[0;32m---> 39\u001b[0;31m       \u001b[0mremainingMoney\u001b[0m\u001b[0;34m=\u001b[0m\u001b[0mremainingMoney\u001b[0m\u001b[0;34m-\u001b[0m\u001b[0mexpenses\u001b[0m\u001b[0;34m\u001b[0m\u001b[0;34m\u001b[0m\u001b[0m\n\u001b[0m\u001b[1;32m     40\u001b[0m       \u001b[0;32mif\u001b[0m\u001b[0;34m(\u001b[0m\u001b[0mremainingMoney\u001b[0m\u001b[0;34m<\u001b[0m\u001b[0;36m0\u001b[0m\u001b[0;34m)\u001b[0m\u001b[0;34m:\u001b[0m\u001b[0;34m\u001b[0m\u001b[0;34m\u001b[0m\u001b[0m\n\u001b[1;32m     41\u001b[0m         \u001b[0mprint\u001b[0m\u001b[0;34m(\u001b[0m\u001b[0;34m'You have overspent'\u001b[0m\u001b[0;34m)\u001b[0m\u001b[0;34m\u001b[0m\u001b[0;34m\u001b[0m\u001b[0m\n",
            "\u001b[0;31mTypeError\u001b[0m: unsupported operand type(s) for -: 'int' and 'dict'"
          ]
        }
      ],
      "source": [
        "#------------Variables------------------\n",
        "cMBudget=True\n",
        "count=0\n",
        "weekDays=['Monday','Tuesday','Wednesday','Thursday','Friday','Saturday','Sunday']\n",
        "allWeeksIncome=[]\n",
        "remainingMoneyOAW=[]\n",
        "expenses={\n",
        "    'food':[],\n",
        "    'transport':[],\n",
        "    'entertainment':[]\n",
        "}\n",
        "#------------Main-----------------------\n",
        "while cMBudget:\n",
        "  print('Managing week ',count)\n",
        "  continueCycle=True\n",
        "  while continueCycle:\n",
        "    try:\n",
        "      incomeOfWeek=int(input('Please input your weekly income: '))\n",
        "      continueCycle=False\n",
        "    except ValueError:\n",
        "      print('Please input a valid number')\n",
        "  continueCycle=True\n",
        "  remainingMoney=incomeOfWeek\n",
        "  allWeeksIncome.append(incomeOfWeek)\n",
        "  for day in weekDays:\n",
        "    hasMoreExpenses=True\n",
        "    while hasMoreExpenses:\n",
        "      aux=1\n",
        "      print('Select the Category')\n",
        "      for category in expenses:\n",
        "        print(aux,'. For',category)\n",
        "        aux=aux+1\n",
        "      while continueCycle:\n",
        "        try:\n",
        "          incomeOfWeek=int(input('Please input your weekly income: '))\n",
        "          continueCycle=False\n",
        "        except ValueError:\n",
        "         print('Please input a valid number')\n",
        "      remainingMoney=remainingMoney-expenses\n",
        "      if(remainingMoney<0):\n",
        "        print('You have overspent')\n",
        "      elif(remainingMoney>0):\n",
        "        print('You have',remainingMoney,' left')\n",
        "      else:\n",
        "        print('you have spent all your money')\n",
        "      continueCycle=True\n",
        "      while continueCycle:\n",
        "        keepMngig=input('Do you have more expenses? (y/n)')\n",
        "      if(keepMngig=='y'):\n",
        "        continueCycle=False\n",
        "      elif(keepMngig=='n'):\n",
        "        print('We will display results')\n",
        "        continueCycle=False\n",
        "      else:\n",
        "        print('please input a valid answer.')\n",
        "    continueCycle=True\n",
        "    while continueCycle:\n",
        "      keepMngig=input('Do you want to continue managing your weekly budget? (y/n)')\n",
        "      if(keepMngig=='y'):\n",
        "        count=count+1\n",
        "        continueCycle=False\n",
        "      elif(keepMngig=='n'):\n",
        "        print('We will display results')\n",
        "        continueCycle=False\n",
        "        cMBudget=False\n",
        "      else:\n",
        "        print('please input a valid answer.')"
      ]
    },
    {
      "cell_type": "code",
      "source": [
        "#-----------Dictionary Example-----------------\n",
        "expenses={\n",
        "    'value': 'hi',\n",
        "    'value2': 'bye',\n",
        "    'Horror':['IT','The Shining']\n",
        "}\n",
        "print(expenses['value'])"
      ],
      "metadata": {
        "colab": {
          "base_uri": "https://localhost:8080/"
        },
        "id": "SYRfU-Q70RyL",
        "outputId": "a3a9e211-5272-44c0-ea13-c723247b634e"
      },
      "execution_count": 8,
      "outputs": [
        {
          "output_type": "stream",
          "name": "stdout",
          "text": [
            "hi\n"
          ]
        }
      ]
    }
  ]
}