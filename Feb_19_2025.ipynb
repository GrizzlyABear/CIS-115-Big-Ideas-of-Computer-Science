{
  "nbformat": 4,
  "nbformat_minor": 0,
  "metadata": {
    "colab": {
      "provenance": []
    },
    "kernelspec": {
      "name": "python3",
      "display_name": "Python 3"
    },
    "language_info": {
      "name": "python"
    }
  },
  "cells": [
    {
      "cell_type": "markdown",
      "source": [
        "1\n",
        "11\n",
        "111\n",
        "1111\n",
        "11111\n",
        "111111\n",
        "11111\n",
        "1111\n",
        "111\n",
        "11\n",
        "1"
      ],
      "metadata": {
        "id": "Akm4UwI39htM"
      }
    },
    {
      "cell_type": "code",
      "execution_count": null,
      "metadata": {
        "colab": {
          "base_uri": "https://localhost:8080/"
        },
        "id": "K0NWbuc88iZw",
        "outputId": "03359d76-bafe-4373-abf5-a7d8316108d1"
      },
      "outputs": [
        {
          "output_type": "stream",
          "name": "stdout",
          "text": [
            "Input Number for Triangle: 15\n",
            "*\n",
            "**\n",
            "***\n",
            "****\n",
            "*****\n",
            "******\n",
            "*******\n",
            "********\n",
            "********\n",
            "*******\n",
            "******\n",
            "*****\n",
            "****\n",
            "***\n",
            "**\n",
            "*\n"
          ]
        }
      ],
      "source": [
        "triangle=int(input('Input Number for Triangle: '))\n",
        "aux=0\n",
        "row=''\n",
        "aux2=triangle\n",
        "while(aux<=triangle):\n",
        "  if(aux<=triangle/2):\n",
        "    while(len(row)<=triangle/2):\n",
        "      row=row+'*'\n",
        "      print(row)\n",
        "  elif(aux>triangle/2):\n",
        "    row=''\n",
        "    aux2=triangle-aux\n",
        "    while(aux2/2>=0):\n",
        "      row=row+'*'\n",
        "      aux2=aux2-1\n",
        "    print(row)\n",
        "  aux=aux+1"
      ]
    }
  ]
}